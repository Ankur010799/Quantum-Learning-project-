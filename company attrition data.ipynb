{
 "cells": [
  {
   "cell_type": "markdown",
   "id": "c90d9115",
   "metadata": {},
   "source": [
    "# IMPORTING LIBRARIES"
   ]
  },
  {
   "cell_type": "code",
   "execution_count": 1,
   "id": "ac893252",
   "metadata": {},
   "outputs": [],
   "source": [
    "import pandas as pd\n",
    "import numpy as np\n",
    "import matplotlib.pyplot as plt\n",
    "import seaborn as sns"
   ]
  },
  {
   "cell_type": "code",
   "execution_count": 2,
   "id": "77c3f989",
   "metadata": {},
   "outputs": [],
   "source": [
    "import warnings\n",
    "warnings.filterwarnings(\"ignore\")"
   ]
  },
  {
   "cell_type": "markdown",
   "id": "c677f55b",
   "metadata": {},
   "source": [
    "# IMPORTING CSV FILE"
   ]
  },
  {
   "cell_type": "code",
   "execution_count": 3,
   "id": "b972769d",
   "metadata": {},
   "outputs": [],
   "source": [
    "company = pd.read_csv(r\"C:\\Users\\Admin\\Desktop\\Quantum Learning Project\\Company Attrition Data.csv\")"
   ]
  },
  {
   "cell_type": "markdown",
   "id": "110337c2",
   "metadata": {},
   "source": [
    "# EDA"
   ]
  },
  {
   "cell_type": "code",
   "execution_count": 4,
   "id": "0ccc3699",
   "metadata": {},
   "outputs": [
    {
     "data": {
      "text/html": [
       "<div>\n",
       "<style scoped>\n",
       "    .dataframe tbody tr th:only-of-type {\n",
       "        vertical-align: middle;\n",
       "    }\n",
       "\n",
       "    .dataframe tbody tr th {\n",
       "        vertical-align: top;\n",
       "    }\n",
       "\n",
       "    .dataframe thead th {\n",
       "        text-align: right;\n",
       "    }\n",
       "</style>\n",
       "<table border=\"1\" class=\"dataframe\">\n",
       "  <thead>\n",
       "    <tr style=\"text-align: right;\">\n",
       "      <th></th>\n",
       "      <th>satisfaction_level</th>\n",
       "      <th>last_evaluation</th>\n",
       "      <th>number_project</th>\n",
       "      <th>average_montly_hours</th>\n",
       "      <th>time_spend_company</th>\n",
       "      <th>Work_accident</th>\n",
       "      <th>left</th>\n",
       "      <th>promotion_last_5years</th>\n",
       "      <th>Sales_Occured</th>\n",
       "      <th>salary</th>\n",
       "    </tr>\n",
       "  </thead>\n",
       "  <tbody>\n",
       "    <tr>\n",
       "      <th>0</th>\n",
       "      <td>0.38</td>\n",
       "      <td>0.53</td>\n",
       "      <td>2</td>\n",
       "      <td>157</td>\n",
       "      <td>3</td>\n",
       "      <td>0</td>\n",
       "      <td>1</td>\n",
       "      <td>0</td>\n",
       "      <td>sales</td>\n",
       "      <td>low</td>\n",
       "    </tr>\n",
       "    <tr>\n",
       "      <th>1</th>\n",
       "      <td>0.80</td>\n",
       "      <td>0.86</td>\n",
       "      <td>5</td>\n",
       "      <td>262</td>\n",
       "      <td>6</td>\n",
       "      <td>0</td>\n",
       "      <td>1</td>\n",
       "      <td>0</td>\n",
       "      <td>sales</td>\n",
       "      <td>medium</td>\n",
       "    </tr>\n",
       "    <tr>\n",
       "      <th>2</th>\n",
       "      <td>0.11</td>\n",
       "      <td>0.88</td>\n",
       "      <td>7</td>\n",
       "      <td>272</td>\n",
       "      <td>4</td>\n",
       "      <td>0</td>\n",
       "      <td>1</td>\n",
       "      <td>0</td>\n",
       "      <td>sales</td>\n",
       "      <td>medium</td>\n",
       "    </tr>\n",
       "    <tr>\n",
       "      <th>3</th>\n",
       "      <td>0.72</td>\n",
       "      <td>0.87</td>\n",
       "      <td>5</td>\n",
       "      <td>223</td>\n",
       "      <td>5</td>\n",
       "      <td>0</td>\n",
       "      <td>1</td>\n",
       "      <td>0</td>\n",
       "      <td>sales</td>\n",
       "      <td>low</td>\n",
       "    </tr>\n",
       "    <tr>\n",
       "      <th>4</th>\n",
       "      <td>0.37</td>\n",
       "      <td>0.52</td>\n",
       "      <td>2</td>\n",
       "      <td>159</td>\n",
       "      <td>3</td>\n",
       "      <td>0</td>\n",
       "      <td>1</td>\n",
       "      <td>0</td>\n",
       "      <td>sales</td>\n",
       "      <td>low</td>\n",
       "    </tr>\n",
       "  </tbody>\n",
       "</table>\n",
       "</div>"
      ],
      "text/plain": [
       "   satisfaction_level  last_evaluation  number_project  average_montly_hours  \\\n",
       "0                0.38             0.53               2                   157   \n",
       "1                0.80             0.86               5                   262   \n",
       "2                0.11             0.88               7                   272   \n",
       "3                0.72             0.87               5                   223   \n",
       "4                0.37             0.52               2                   159   \n",
       "\n",
       "   time_spend_company  Work_accident  left  promotion_last_5years  \\\n",
       "0                   3              0     1                      0   \n",
       "1                   6              0     1                      0   \n",
       "2                   4              0     1                      0   \n",
       "3                   5              0     1                      0   \n",
       "4                   3              0     1                      0   \n",
       "\n",
       "  Sales_Occured  salary  \n",
       "0         sales     low  \n",
       "1         sales  medium  \n",
       "2         sales  medium  \n",
       "3         sales     low  \n",
       "4         sales     low  "
      ]
     },
     "execution_count": 4,
     "metadata": {},
     "output_type": "execute_result"
    }
   ],
   "source": [
    "company.head()"
   ]
  },
  {
   "cell_type": "code",
   "execution_count": 5,
   "id": "d43ff6c7",
   "metadata": {},
   "outputs": [
    {
     "data": {
      "text/plain": [
       "(14999, 10)"
      ]
     },
     "execution_count": 5,
     "metadata": {},
     "output_type": "execute_result"
    }
   ],
   "source": [
    "company.shape"
   ]
  },
  {
   "cell_type": "code",
   "execution_count": 6,
   "id": "65ab0d55",
   "metadata": {},
   "outputs": [
    {
     "name": "stdout",
     "output_type": "stream",
     "text": [
      "<class 'pandas.core.frame.DataFrame'>\n",
      "RangeIndex: 14999 entries, 0 to 14998\n",
      "Data columns (total 10 columns):\n",
      " #   Column                 Non-Null Count  Dtype  \n",
      "---  ------                 --------------  -----  \n",
      " 0   satisfaction_level     14999 non-null  float64\n",
      " 1   last_evaluation        14999 non-null  float64\n",
      " 2   number_project         14999 non-null  int64  \n",
      " 3   average_montly_hours   14999 non-null  int64  \n",
      " 4   time_spend_company     14999 non-null  int64  \n",
      " 5   Work_accident          14999 non-null  int64  \n",
      " 6   left                   14999 non-null  int64  \n",
      " 7   promotion_last_5years  14999 non-null  int64  \n",
      " 8   Sales_Occured          14999 non-null  object \n",
      " 9   salary                 14999 non-null  object \n",
      "dtypes: float64(2), int64(6), object(2)\n",
      "memory usage: 1.1+ MB\n"
     ]
    }
   ],
   "source": [
    "company.info()"
   ]
  },
  {
   "cell_type": "code",
   "execution_count": 7,
   "id": "3483b927",
   "metadata": {},
   "outputs": [
    {
     "data": {
      "text/html": [
       "<div>\n",
       "<style scoped>\n",
       "    .dataframe tbody tr th:only-of-type {\n",
       "        vertical-align: middle;\n",
       "    }\n",
       "\n",
       "    .dataframe tbody tr th {\n",
       "        vertical-align: top;\n",
       "    }\n",
       "\n",
       "    .dataframe thead th {\n",
       "        text-align: right;\n",
       "    }\n",
       "</style>\n",
       "<table border=\"1\" class=\"dataframe\">\n",
       "  <thead>\n",
       "    <tr style=\"text-align: right;\">\n",
       "      <th></th>\n",
       "      <th>count</th>\n",
       "      <th>mean</th>\n",
       "      <th>std</th>\n",
       "      <th>min</th>\n",
       "      <th>25%</th>\n",
       "      <th>50%</th>\n",
       "      <th>75%</th>\n",
       "      <th>max</th>\n",
       "    </tr>\n",
       "  </thead>\n",
       "  <tbody>\n",
       "    <tr>\n",
       "      <th>satisfaction_level</th>\n",
       "      <td>14999.0</td>\n",
       "      <td>0.613</td>\n",
       "      <td>0.249</td>\n",
       "      <td>0.09</td>\n",
       "      <td>0.44</td>\n",
       "      <td>0.64</td>\n",
       "      <td>0.82</td>\n",
       "      <td>1.0</td>\n",
       "    </tr>\n",
       "    <tr>\n",
       "      <th>last_evaluation</th>\n",
       "      <td>14999.0</td>\n",
       "      <td>0.716</td>\n",
       "      <td>0.171</td>\n",
       "      <td>0.36</td>\n",
       "      <td>0.56</td>\n",
       "      <td>0.72</td>\n",
       "      <td>0.87</td>\n",
       "      <td>1.0</td>\n",
       "    </tr>\n",
       "    <tr>\n",
       "      <th>number_project</th>\n",
       "      <td>14999.0</td>\n",
       "      <td>3.803</td>\n",
       "      <td>1.233</td>\n",
       "      <td>2.00</td>\n",
       "      <td>3.00</td>\n",
       "      <td>4.00</td>\n",
       "      <td>5.00</td>\n",
       "      <td>7.0</td>\n",
       "    </tr>\n",
       "    <tr>\n",
       "      <th>average_montly_hours</th>\n",
       "      <td>14999.0</td>\n",
       "      <td>201.050</td>\n",
       "      <td>49.943</td>\n",
       "      <td>96.00</td>\n",
       "      <td>156.00</td>\n",
       "      <td>200.00</td>\n",
       "      <td>245.00</td>\n",
       "      <td>310.0</td>\n",
       "    </tr>\n",
       "    <tr>\n",
       "      <th>time_spend_company</th>\n",
       "      <td>14999.0</td>\n",
       "      <td>3.498</td>\n",
       "      <td>1.460</td>\n",
       "      <td>2.00</td>\n",
       "      <td>3.00</td>\n",
       "      <td>3.00</td>\n",
       "      <td>4.00</td>\n",
       "      <td>10.0</td>\n",
       "    </tr>\n",
       "    <tr>\n",
       "      <th>Work_accident</th>\n",
       "      <td>14999.0</td>\n",
       "      <td>0.145</td>\n",
       "      <td>0.352</td>\n",
       "      <td>0.00</td>\n",
       "      <td>0.00</td>\n",
       "      <td>0.00</td>\n",
       "      <td>0.00</td>\n",
       "      <td>1.0</td>\n",
       "    </tr>\n",
       "    <tr>\n",
       "      <th>left</th>\n",
       "      <td>14999.0</td>\n",
       "      <td>0.238</td>\n",
       "      <td>0.426</td>\n",
       "      <td>0.00</td>\n",
       "      <td>0.00</td>\n",
       "      <td>0.00</td>\n",
       "      <td>0.00</td>\n",
       "      <td>1.0</td>\n",
       "    </tr>\n",
       "    <tr>\n",
       "      <th>promotion_last_5years</th>\n",
       "      <td>14999.0</td>\n",
       "      <td>0.021</td>\n",
       "      <td>0.144</td>\n",
       "      <td>0.00</td>\n",
       "      <td>0.00</td>\n",
       "      <td>0.00</td>\n",
       "      <td>0.00</td>\n",
       "      <td>1.0</td>\n",
       "    </tr>\n",
       "  </tbody>\n",
       "</table>\n",
       "</div>"
      ],
      "text/plain": [
       "                         count     mean     std    min     25%     50%  \\\n",
       "satisfaction_level     14999.0    0.613   0.249   0.09    0.44    0.64   \n",
       "last_evaluation        14999.0    0.716   0.171   0.36    0.56    0.72   \n",
       "number_project         14999.0    3.803   1.233   2.00    3.00    4.00   \n",
       "average_montly_hours   14999.0  201.050  49.943  96.00  156.00  200.00   \n",
       "time_spend_company     14999.0    3.498   1.460   2.00    3.00    3.00   \n",
       "Work_accident          14999.0    0.145   0.352   0.00    0.00    0.00   \n",
       "left                   14999.0    0.238   0.426   0.00    0.00    0.00   \n",
       "promotion_last_5years  14999.0    0.021   0.144   0.00    0.00    0.00   \n",
       "\n",
       "                          75%    max  \n",
       "satisfaction_level       0.82    1.0  \n",
       "last_evaluation          0.87    1.0  \n",
       "number_project           5.00    7.0  \n",
       "average_montly_hours   245.00  310.0  \n",
       "time_spend_company       4.00   10.0  \n",
       "Work_accident            0.00    1.0  \n",
       "left                     0.00    1.0  \n",
       "promotion_last_5years    0.00    1.0  "
      ]
     },
     "execution_count": 7,
     "metadata": {},
     "output_type": "execute_result"
    }
   ],
   "source": [
    "company.describe().round(3).T"
   ]
  },
  {
   "cell_type": "code",
   "execution_count": 8,
   "id": "33d7b179",
   "metadata": {},
   "outputs": [
    {
     "data": {
      "text/plain": [
       "satisfaction_level       0\n",
       "last_evaluation          0\n",
       "number_project           0\n",
       "average_montly_hours     0\n",
       "time_spend_company       0\n",
       "Work_accident            0\n",
       "left                     0\n",
       "promotion_last_5years    0\n",
       "Sales_Occured            0\n",
       "salary                   0\n",
       "dtype: int64"
      ]
     },
     "execution_count": 8,
     "metadata": {},
     "output_type": "execute_result"
    }
   ],
   "source": [
    "# From below it's confirmed that there is no null/nan data in the company dataset.\n",
    "company.isnull().sum()"
   ]
  },
  {
   "cell_type": "code",
   "execution_count": 9,
   "id": "7740842e",
   "metadata": {},
   "outputs": [
    {
     "name": "stdout",
     "output_type": "stream",
     "text": [
      "3008\n",
      "0\n"
     ]
    }
   ],
   "source": [
    "# Removing duplicates from dataset.\n",
    "print(company.duplicated().sum())\n",
    "company.drop_duplicates(inplace = True)\n",
    "print(company.duplicated().sum())"
   ]
  },
  {
   "cell_type": "markdown",
   "id": "33d7bd36",
   "metadata": {},
   "source": [
    "# DATA VISUALIZATION"
   ]
  },
  {
   "cell_type": "code",
   "execution_count": 10,
   "id": "446a1bf8",
   "metadata": {},
   "outputs": [
    {
     "name": "stdout",
     "output_type": "stream",
     "text": [
      "0    10000\n",
      "1     1991\n",
      "Name: left, dtype: int64\n"
     ]
    },
    {
     "data": {
      "image/png": "[encoded data removed]",
      "text/plain": [
       "<Figure size 864x432 with 1 Axes>"
      ]
     },
     "metadata": {
      "needs_background": "light"
     },
     "output_type": "display_data"
    }
   ],
   "source": [
    "print(company[\"left\"].value_counts())\n",
    "plt.figure(figsize=(12,6))\n",
    "sns.set_theme(style=\"darkgrid\")\n",
    "ax = sns.countplot(x=\"left\", data=company)"
   ]
  },
  {
   "cell_type": "code",
   "execution_count": 11,
   "id": "56a1ffa6",
   "metadata": {},
   "outputs": [
    {
     "name": "stdout",
     "output_type": "stream",
     "text": [
      "sales          3239\n",
      "technical      2244\n",
      "support        1821\n",
      "IT              976\n",
      "RandD           694\n",
      "product_mng     686\n",
      "marketing       673\n",
      "accounting      621\n",
      "hr              601\n",
      "management      436\n",
      "Name: Sales_Occured, dtype: int64\n"
     ]
    },
    {
     "data": {
      "image/png": "[encoded data removed]",
      "text/plain": [
       "<Figure size 1152x576 with 1 Axes>"
      ]
     },
     "metadata": {},
     "output_type": "display_data"
    }
   ],
   "source": [
    "print(company[\"Sales_Occured\"].value_counts())\n",
    "plt.figure(figsize=(16,8))\n",
    "sns.set_theme(style=\"darkgrid\")\n",
    "ax = sns.countplot(x=\"Sales_Occured\",hue=\"left\", data=company)"
   ]
  },
  {
   "cell_type": "code",
   "execution_count": 12,
   "id": "9e8ce51a",
   "metadata": {},
   "outputs": [
    {
     "name": "stdout",
     "output_type": "stream",
     "text": [
      "low       5740\n",
      "medium    5261\n",
      "high       990\n",
      "Name: salary, dtype: int64\n"
     ]
    },
    {
     "data": {
      "text/plain": [
       "Text(0.5, 1.0, 'Salary')"
      ]
     },
     "execution_count": 12,
     "metadata": {},
     "output_type": "execute_result"
    },
    {
     "data": {
      "image/png": "[encoded data removed]",
      "text/plain": [
       "<Figure size 864x432 with 1 Axes>"
      ]
     },
     "metadata": {},
     "output_type": "display_data"
    }
   ],
   "source": [
    "print(company[\"salary\"].value_counts())\n",
    "plt.figure(figsize=(12,6))\n",
    "sns.set_theme(style=\"darkgrid\")\n",
    "ax = sns.countplot(x=\"salary\",hue=\"left\", data=company)\n",
    "plt.title(\"Salary\")"
   ]
  },
  {
   "cell_type": "code",
   "execution_count": 13,
   "id": "2f07ab1f",
   "metadata": {},
   "outputs": [
    {
     "name": "stdout",
     "output_type": "stream",
     "text": [
      "0    10141\n",
      "1     1850\n",
      "Name: Work_accident, dtype: int64\n"
     ]
    },
    {
     "data": {
      "image/png": "[encoded data removed]",
      "text/plain": [
       "<Figure size 864x432 with 1 Axes>"
      ]
     },
     "metadata": {},
     "output_type": "display_data"
    }
   ],
   "source": [
    "print(company[\"Work_accident\"].value_counts())\n",
    "plt.figure(figsize=(12,6))\n",
    "sns.set_theme(style=\"darkgrid\")\n",
    "ax = sns.countplot(x=\"Work_accident\",hue=\"left\", data=company)"
   ]
  },
  {
   "cell_type": "code",
   "execution_count": 14,
   "id": "5b8f81f9",
   "metadata": {},
   "outputs": [
    {
     "name": "stdout",
     "output_type": "stream",
     "text": [
      "0    11788\n",
      "1      203\n",
      "Name: promotion_last_5years, dtype: int64\n"
     ]
    },
    {
     "data": {
      "image/png": "[encoded data removed]",
      "text/plain": [
       "<Figure size 864x432 with 1 Axes>"
      ]
     },
     "metadata": {},
     "output_type": "display_data"
    }
   ],
   "source": [
    "print(company[\"promotion_last_5years\"].value_counts())\n",
    "plt.figure(figsize=(12,6))\n",
    "sns.set_theme(style=\"darkgrid\")\n",
    "ax = sns.countplot(x=\"promotion_last_5years\",hue=\"left\", data=company)"
   ]
  },
  {
   "cell_type": "code",
   "execution_count": null,
   "id": "dd31f7e1",
   "metadata": {},
   "outputs": [],
   "source": []
  },
  {
   "cell_type": "code",
   "execution_count": 15,
   "id": "e55f9f03",
   "metadata": {},
   "outputs": [
    {
     "data": {
      "text/plain": [
       "satisfaction_level      -0.538702\n",
       "last_evaluation         -0.031686\n",
       "average_montly_hours     0.027208\n",
       "number_project           0.332152\n",
       "left                     1.795135\n",
       "time_spend_company       1.816577\n",
       "Work_accident            1.914410\n",
       "promotion_last_5years    7.490008\n",
       "dtype: float64"
      ]
     },
     "execution_count": 15,
     "metadata": {},
     "output_type": "execute_result"
    }
   ],
   "source": [
    "# Before removing outlier from the dataset.\n",
    "skewdata = company.skew(axis=0,skipna=True)\n",
    "skewdata.sort_values(axis=0,ascending=True)"
   ]
  },
  {
   "cell_type": "code",
   "execution_count": null,
   "id": "30edb394",
   "metadata": {},
   "outputs": [],
   "source": []
  },
  {
   "cell_type": "code",
   "execution_count": 16,
   "id": "671dd505",
   "metadata": {},
   "outputs": [],
   "source": [
    "data = company.copy()"
   ]
  },
  {
   "cell_type": "markdown",
   "id": "5e9af972",
   "metadata": {},
   "source": [
    "# One Hot Encoding"
   ]
  },
  {
   "cell_type": "code",
   "execution_count": 17,
   "id": "b152f05c",
   "metadata": {},
   "outputs": [
    {
     "data": {
      "text/html": [
       "<div>\n",
       "<style scoped>\n",
       "    .dataframe tbody tr th:only-of-type {\n",
       "        vertical-align: middle;\n",
       "    }\n",
       "\n",
       "    .dataframe tbody tr th {\n",
       "        vertical-align: top;\n",
       "    }\n",
       "\n",
       "    .dataframe thead th {\n",
       "        text-align: right;\n",
       "    }\n",
       "</style>\n",
       "<table border=\"1\" class=\"dataframe\">\n",
       "  <thead>\n",
       "    <tr style=\"text-align: right;\">\n",
       "      <th></th>\n",
       "      <th>Sales_Occured_IT</th>\n",
       "      <th>Sales_Occured_RandD</th>\n",
       "      <th>Sales_Occured_accounting</th>\n",
       "      <th>Sales_Occured_hr</th>\n",
       "      <th>Sales_Occured_management</th>\n",
       "      <th>Sales_Occured_marketing</th>\n",
       "      <th>Sales_Occured_product_mng</th>\n",
       "      <th>Sales_Occured_sales</th>\n",
       "      <th>Sales_Occured_support</th>\n",
       "      <th>Sales_Occured_technical</th>\n",
       "      <th>salary_high</th>\n",
       "      <th>salary_low</th>\n",
       "      <th>salary_medium</th>\n",
       "    </tr>\n",
       "  </thead>\n",
       "  <tbody>\n",
       "    <tr>\n",
       "      <th>0</th>\n",
       "      <td>0</td>\n",
       "      <td>0</td>\n",
       "      <td>0</td>\n",
       "      <td>0</td>\n",
       "      <td>0</td>\n",
       "      <td>0</td>\n",
       "      <td>0</td>\n",
       "      <td>1</td>\n",
       "      <td>0</td>\n",
       "      <td>0</td>\n",
       "      <td>0</td>\n",
       "      <td>1</td>\n",
       "      <td>0</td>\n",
       "    </tr>\n",
       "    <tr>\n",
       "      <th>1</th>\n",
       "      <td>0</td>\n",
       "      <td>0</td>\n",
       "      <td>0</td>\n",
       "      <td>0</td>\n",
       "      <td>0</td>\n",
       "      <td>0</td>\n",
       "      <td>0</td>\n",
       "      <td>1</td>\n",
       "      <td>0</td>\n",
       "      <td>0</td>\n",
       "      <td>0</td>\n",
       "      <td>0</td>\n",
       "      <td>1</td>\n",
       "    </tr>\n",
       "    <tr>\n",
       "      <th>2</th>\n",
       "      <td>0</td>\n",
       "      <td>0</td>\n",
       "      <td>0</td>\n",
       "      <td>0</td>\n",
       "      <td>0</td>\n",
       "      <td>0</td>\n",
       "      <td>0</td>\n",
       "      <td>1</td>\n",
       "      <td>0</td>\n",
       "      <td>0</td>\n",
       "      <td>0</td>\n",
       "      <td>0</td>\n",
       "      <td>1</td>\n",
       "    </tr>\n",
       "    <tr>\n",
       "      <th>3</th>\n",
       "      <td>0</td>\n",
       "      <td>0</td>\n",
       "      <td>0</td>\n",
       "      <td>0</td>\n",
       "      <td>0</td>\n",
       "      <td>0</td>\n",
       "      <td>0</td>\n",
       "      <td>1</td>\n",
       "      <td>0</td>\n",
       "      <td>0</td>\n",
       "      <td>0</td>\n",
       "      <td>1</td>\n",
       "      <td>0</td>\n",
       "    </tr>\n",
       "    <tr>\n",
       "      <th>4</th>\n",
       "      <td>0</td>\n",
       "      <td>0</td>\n",
       "      <td>0</td>\n",
       "      <td>0</td>\n",
       "      <td>0</td>\n",
       "      <td>0</td>\n",
       "      <td>0</td>\n",
       "      <td>1</td>\n",
       "      <td>0</td>\n",
       "      <td>0</td>\n",
       "      <td>0</td>\n",
       "      <td>1</td>\n",
       "      <td>0</td>\n",
       "    </tr>\n",
       "  </tbody>\n",
       "</table>\n",
       "</div>"
      ],
      "text/plain": [
       "   Sales_Occured_IT  Sales_Occured_RandD  Sales_Occured_accounting  \\\n",
       "0                 0                    0                         0   \n",
       "1                 0                    0                         0   \n",
       "2                 0                    0                         0   \n",
       "3                 0                    0                         0   \n",
       "4                 0                    0                         0   \n",
       "\n",
       "   Sales_Occured_hr  Sales_Occured_management  Sales_Occured_marketing  \\\n",
       "0                 0                         0                        0   \n",
       "1                 0                         0                        0   \n",
       "2                 0                         0                        0   \n",
       "3                 0                         0                        0   \n",
       "4                 0                         0                        0   \n",
       "\n",
       "   Sales_Occured_product_mng  Sales_Occured_sales  Sales_Occured_support  \\\n",
       "0                          0                    1                      0   \n",
       "1                          0                    1                      0   \n",
       "2                          0                    1                      0   \n",
       "3                          0                    1                      0   \n",
       "4                          0                    1                      0   \n",
       "\n",
       "   Sales_Occured_technical  salary_high  salary_low  salary_medium  \n",
       "0                        0            0           1              0  \n",
       "1                        0            0           0              1  \n",
       "2                        0            0           0              1  \n",
       "3                        0            0           1              0  \n",
       "4                        0            0           1              0  "
      ]
     },
     "execution_count": 17,
     "metadata": {},
     "output_type": "execute_result"
    }
   ],
   "source": [
    "#Using One Hot Encoding for PaymentMethod and contract\n",
    "dummies = pd.get_dummies(data[[\"Sales_Occured\",\"salary\"]])\n",
    "dummies.head()"
   ]
  },
  {
   "cell_type": "code",
   "execution_count": 18,
   "id": "b7b7d9e9",
   "metadata": {},
   "outputs": [
    {
     "data": {
      "text/html": [
       "<div>\n",
       "<style scoped>\n",
       "    .dataframe tbody tr th:only-of-type {\n",
       "        vertical-align: middle;\n",
       "    }\n",
       "\n",
       "    .dataframe tbody tr th {\n",
       "        vertical-align: top;\n",
       "    }\n",
       "\n",
       "    .dataframe thead th {\n",
       "        text-align: right;\n",
       "    }\n",
       "</style>\n",
       "<table border=\"1\" class=\"dataframe\">\n",
       "  <thead>\n",
       "    <tr style=\"text-align: right;\">\n",
       "      <th></th>\n",
       "      <th>satisfaction_level</th>\n",
       "      <th>last_evaluation</th>\n",
       "      <th>number_project</th>\n",
       "      <th>average_montly_hours</th>\n",
       "      <th>time_spend_company</th>\n",
       "      <th>Work_accident</th>\n",
       "      <th>left</th>\n",
       "      <th>promotion_last_5years</th>\n",
       "      <th>Sales_Occured</th>\n",
       "      <th>salary</th>\n",
       "      <th>...</th>\n",
       "      <th>Sales_Occured_hr</th>\n",
       "      <th>Sales_Occured_management</th>\n",
       "      <th>Sales_Occured_marketing</th>\n",
       "      <th>Sales_Occured_product_mng</th>\n",
       "      <th>Sales_Occured_sales</th>\n",
       "      <th>Sales_Occured_support</th>\n",
       "      <th>Sales_Occured_technical</th>\n",
       "      <th>salary_high</th>\n",
       "      <th>salary_low</th>\n",
       "      <th>salary_medium</th>\n",
       "    </tr>\n",
       "  </thead>\n",
       "  <tbody>\n",
       "    <tr>\n",
       "      <th>0</th>\n",
       "      <td>0.38</td>\n",
       "      <td>0.53</td>\n",
       "      <td>2</td>\n",
       "      <td>157</td>\n",
       "      <td>3</td>\n",
       "      <td>0</td>\n",
       "      <td>1</td>\n",
       "      <td>0</td>\n",
       "      <td>sales</td>\n",
       "      <td>low</td>\n",
       "      <td>...</td>\n",
       "      <td>0</td>\n",
       "      <td>0</td>\n",
       "      <td>0</td>\n",
       "      <td>0</td>\n",
       "      <td>1</td>\n",
       "      <td>0</td>\n",
       "      <td>0</td>\n",
       "      <td>0</td>\n",
       "      <td>1</td>\n",
       "      <td>0</td>\n",
       "    </tr>\n",
       "    <tr>\n",
       "      <th>1</th>\n",
       "      <td>0.80</td>\n",
       "      <td>0.86</td>\n",
       "      <td>5</td>\n",
       "      <td>262</td>\n",
       "      <td>6</td>\n",
       "      <td>0</td>\n",
       "      <td>1</td>\n",
       "      <td>0</td>\n",
       "      <td>sales</td>\n",
       "      <td>medium</td>\n",
       "      <td>...</td>\n",
       "      <td>0</td>\n",
       "      <td>0</td>\n",
       "      <td>0</td>\n",
       "      <td>0</td>\n",
       "      <td>1</td>\n",
       "      <td>0</td>\n",
       "      <td>0</td>\n",
       "      <td>0</td>\n",
       "      <td>0</td>\n",
       "      <td>1</td>\n",
       "    </tr>\n",
       "    <tr>\n",
       "      <th>2</th>\n",
       "      <td>0.11</td>\n",
       "      <td>0.88</td>\n",
       "      <td>7</td>\n",
       "      <td>272</td>\n",
       "      <td>4</td>\n",
       "      <td>0</td>\n",
       "      <td>1</td>\n",
       "      <td>0</td>\n",
       "      <td>sales</td>\n",
       "      <td>medium</td>\n",
       "      <td>...</td>\n",
       "      <td>0</td>\n",
       "      <td>0</td>\n",
       "      <td>0</td>\n",
       "      <td>0</td>\n",
       "      <td>1</td>\n",
       "      <td>0</td>\n",
       "      <td>0</td>\n",
       "      <td>0</td>\n",
       "      <td>0</td>\n",
       "      <td>1</td>\n",
       "    </tr>\n",
       "    <tr>\n",
       "      <th>3</th>\n",
       "      <td>0.72</td>\n",
       "      <td>0.87</td>\n",
       "      <td>5</td>\n",
       "      <td>223</td>\n",
       "      <td>5</td>\n",
       "      <td>0</td>\n",
       "      <td>1</td>\n",
       "      <td>0</td>\n",
       "      <td>sales</td>\n",
       "      <td>low</td>\n",
       "      <td>...</td>\n",
       "      <td>0</td>\n",
       "      <td>0</td>\n",
       "      <td>0</td>\n",
       "      <td>0</td>\n",
       "      <td>1</td>\n",
       "      <td>0</td>\n",
       "      <td>0</td>\n",
       "      <td>0</td>\n",
       "      <td>1</td>\n",
       "      <td>0</td>\n",
       "    </tr>\n",
       "    <tr>\n",
       "      <th>4</th>\n",
       "      <td>0.37</td>\n",
       "      <td>0.52</td>\n",
       "      <td>2</td>\n",
       "      <td>159</td>\n",
       "      <td>3</td>\n",
       "      <td>0</td>\n",
       "      <td>1</td>\n",
       "      <td>0</td>\n",
       "      <td>sales</td>\n",
       "      <td>low</td>\n",
       "      <td>...</td>\n",
       "      <td>0</td>\n",
       "      <td>0</td>\n",
       "      <td>0</td>\n",
       "      <td>0</td>\n",
       "      <td>1</td>\n",
       "      <td>0</td>\n",
       "      <td>0</td>\n",
       "      <td>0</td>\n",
       "      <td>1</td>\n",
       "      <td>0</td>\n",
       "    </tr>\n",
       "  </tbody>\n",
       "</table>\n",
       "<p>5 rows × 23 columns</p>\n",
       "</div>"
      ],
      "text/plain": [
       "   satisfaction_level  last_evaluation  number_project  average_montly_hours  \\\n",
       "0                0.38             0.53               2                   157   \n",
       "1                0.80             0.86               5                   262   \n",
       "2                0.11             0.88               7                   272   \n",
       "3                0.72             0.87               5                   223   \n",
       "4                0.37             0.52               2                   159   \n",
       "\n",
       "   time_spend_company  Work_accident  left  promotion_last_5years  \\\n",
       "0                   3              0     1                      0   \n",
       "1                   6              0     1                      0   \n",
       "2                   4              0     1                      0   \n",
       "3                   5              0     1                      0   \n",
       "4                   3              0     1                      0   \n",
       "\n",
       "  Sales_Occured  salary  ...  Sales_Occured_hr  Sales_Occured_management  \\\n",
       "0         sales     low  ...                 0                         0   \n",
       "1         sales  medium  ...                 0                         0   \n",
       "2         sales  medium  ...                 0                         0   \n",
       "3         sales     low  ...                 0                         0   \n",
       "4         sales     low  ...                 0                         0   \n",
       "\n",
       "   Sales_Occured_marketing  Sales_Occured_product_mng  Sales_Occured_sales  \\\n",
       "0                        0                          0                    1   \n",
       "1                        0                          0                    1   \n",
       "2                        0                          0                    1   \n",
       "3                        0                          0                    1   \n",
       "4                        0                          0                    1   \n",
       "\n",
       "   Sales_Occured_support  Sales_Occured_technical  salary_high  salary_low  \\\n",
       "0                      0                        0            0           1   \n",
       "1                      0                        0            0           0   \n",
       "2                      0                        0            0           0   \n",
       "3                      0                        0            0           1   \n",
       "4                      0                        0            0           1   \n",
       "\n",
       "   salary_medium  \n",
       "0              0  \n",
       "1              1  \n",
       "2              1  \n",
       "3              0  \n",
       "4              0  \n",
       "\n",
       "[5 rows x 23 columns]"
      ]
     },
     "execution_count": 18,
     "metadata": {},
     "output_type": "execute_result"
    }
   ],
   "source": [
    "#Concatinating both the dataframes together\n",
    "data = pd.concat([data,dummies],axis=1)\n",
    "data.head()"
   ]
  },
  {
   "cell_type": "code",
   "execution_count": 19,
   "id": "a9fb7217",
   "metadata": {},
   "outputs": [],
   "source": [
    "# After one hot encoding remove the previous column for whose new columns are created.\n",
    "data.drop([\"Sales_Occured\",\"salary\"],axis=1,inplace=True)"
   ]
  },
  {
   "cell_type": "code",
   "execution_count": 20,
   "id": "47b673e2",
   "metadata": {},
   "outputs": [
    {
     "name": "stdout",
     "output_type": "stream",
     "text": [
      "<class 'pandas.core.frame.DataFrame'>\n",
      "Int64Index: 11991 entries, 0 to 11999\n",
      "Data columns (total 21 columns):\n",
      " #   Column                     Non-Null Count  Dtype  \n",
      "---  ------                     --------------  -----  \n",
      " 0   satisfaction_level         11991 non-null  float64\n",
      " 1   last_evaluation            11991 non-null  float64\n",
      " 2   number_project             11991 non-null  int64  \n",
      " 3   average_montly_hours       11991 non-null  int64  \n",
      " 4   time_spend_company         11991 non-null  int64  \n",
      " 5   Work_accident              11991 non-null  int64  \n",
      " 6   left                       11991 non-null  int64  \n",
      " 7   promotion_last_5years      11991 non-null  int64  \n",
      " 8   Sales_Occured_IT           11991 non-null  uint8  \n",
      " 9   Sales_Occured_RandD        11991 non-null  uint8  \n",
      " 10  Sales_Occured_accounting   11991 non-null  uint8  \n",
      " 11  Sales_Occured_hr           11991 non-null  uint8  \n",
      " 12  Sales_Occured_management   11991 non-null  uint8  \n",
      " 13  Sales_Occured_marketing    11991 non-null  uint8  \n",
      " 14  Sales_Occured_product_mng  11991 non-null  uint8  \n",
      " 15  Sales_Occured_sales        11991 non-null  uint8  \n",
      " 16  Sales_Occured_support      11991 non-null  uint8  \n",
      " 17  Sales_Occured_technical    11991 non-null  uint8  \n",
      " 18  salary_high                11991 non-null  uint8  \n",
      " 19  salary_low                 11991 non-null  uint8  \n",
      " 20  salary_medium              11991 non-null  uint8  \n",
      "dtypes: float64(2), int64(6), uint8(13)\n",
      "memory usage: 1.2 MB\n"
     ]
    }
   ],
   "source": [
    "data.info()"
   ]
  },
  {
   "cell_type": "code",
   "execution_count": 21,
   "id": "7785a857",
   "metadata": {},
   "outputs": [
    {
     "data": {
      "text/plain": [
       "(11991, 21)"
      ]
     },
     "execution_count": 21,
     "metadata": {},
     "output_type": "execute_result"
    }
   ],
   "source": [
    "data.shape"
   ]
  },
  {
   "cell_type": "code",
   "execution_count": 22,
   "id": "25c6e587",
   "metadata": {},
   "outputs": [],
   "source": [
    "# Removing promotion_last_5years as it is highly skewed.\n",
    "data.drop([\"promotion_last_5years\"],axis=1,inplace=True)"
   ]
  },
  {
   "cell_type": "markdown",
   "id": "e14a42ea",
   "metadata": {},
   "source": [
    "# MODEL BUILDING AND TESTING"
   ]
  },
  {
   "cell_type": "code",
   "execution_count": 23,
   "id": "343e6d87",
   "metadata": {},
   "outputs": [],
   "source": [
    "y = data[\"left\"]\n",
    "X = data.drop([\"left\"],axis=1)"
   ]
  },
  {
   "cell_type": "code",
   "execution_count": 24,
   "id": "ec44f5ec",
   "metadata": {},
   "outputs": [],
   "source": [
    "# Create Train & Test Data\n",
    "from sklearn.model_selection import train_test_split\n",
    "X_train, X_test, y_train, y_test = train_test_split(X, y, test_size=0.3, random_state=101)"
   ]
  },
  {
   "cell_type": "code",
   "execution_count": 25,
   "id": "92131551",
   "metadata": {},
   "outputs": [
    {
     "data": {
      "text/plain": [
       "0    2971\n",
       "1     627\n",
       "Name: left, dtype: int64"
      ]
     },
     "execution_count": 25,
     "metadata": {},
     "output_type": "execute_result"
    }
   ],
   "source": [
    "y_test.value_counts()"
   ]
  },
  {
   "cell_type": "code",
   "execution_count": 26,
   "id": "668ecbbb",
   "metadata": {},
   "outputs": [
    {
     "name": "stdout",
     "output_type": "stream",
     "text": [
      "Train accuracy= 0.9792684379840343\n",
      "Test accuracy= 0.981100611450806\n"
     ]
    }
   ],
   "source": [
    "from sklearn.ensemble import RandomForestClassifier\n",
    "from sklearn.metrics import accuracy_score\n",
    "from sklearn.metrics import confusion_matrix  \n",
    "\n",
    "\n",
    "rfc = RandomForestClassifier(n_estimators=1000 , oob_score = True, n_jobs = -1,\n",
    "                                  random_state =50, max_features = \"auto\",\n",
    "                                  max_leaf_nodes = 30)\n",
    "rfc.fit(X_train, y_train)\n",
    "print(\"Train accuracy=\",rfc.score(X_train, y_train))\n",
    "\n",
    "# Make predictions\n",
    "rfc_pred = rfc.predict(X_test)\n",
    "print (\"Test accuracy=\",accuracy_score(y_test, rfc_pred))"
   ]
  },
  {
   "cell_type": "code",
   "execution_count": 27,
   "id": "6694f49d",
   "metadata": {},
   "outputs": [
    {
     "name": "stdout",
     "output_type": "stream",
     "text": [
      "[[2962    9]\n",
      " [  59  568]]\n"
     ]
    }
   ],
   "source": [
    "# Create the Confusion matrix\n",
    "print(confusion_matrix(y_test,rfc_pred))  "
   ]
  },
  {
   "cell_type": "code",
   "execution_count": 28,
   "id": "12b5dd04",
   "metadata": {},
   "outputs": [
    {
     "name": "stdout",
     "output_type": "stream",
     "text": [
      "Train accuracy= 0.9642559275586798\n",
      "Test accuracy= 0.9635908838243469\n"
     ]
    }
   ],
   "source": [
    "# AdaBoost Algorithm\n",
    "from sklearn.ensemble import AdaBoostClassifier\n",
    "\n",
    "ada = AdaBoostClassifier()\n",
    "ada.fit(X_train,y_train)\n",
    "\n",
    "print(\"Train accuracy=\",ada.score(X_train, y_train))\n",
    "ada_pred = ada.predict(X_test)\n",
    "print (\"Test accuracy=\",accuracy_score(y_test, ada_pred))"
   ]
  },
  {
   "cell_type": "code",
   "execution_count": 29,
   "id": "9d173cc8",
   "metadata": {},
   "outputs": [
    {
     "name": "stdout",
     "output_type": "stream",
     "text": [
      "[[2914   57]\n",
      " [  74  553]]\n"
     ]
    }
   ],
   "source": [
    "# Create the Confusion matrix\n",
    "print(confusion_matrix(y_test,ada_pred))  "
   ]
  },
  {
   "cell_type": "code",
   "execution_count": 30,
   "id": "4ec58692",
   "metadata": {},
   "outputs": [
    {
     "name": "stdout",
     "output_type": "stream",
     "text": [
      "[10:45:48] WARNING: C:/Users/Administrator/workspace/xgboost-win64_release_1.5.1/src/learner.cc:1115: Starting in XGBoost 1.3.0, the default evaluation metric used with the objective 'binary:logistic' was changed from 'error' to 'logloss'. Explicitly set eval_metric if you'd like to restore the old behavior.\n",
      "Train accuracy= 0.9967830334802812\n",
      "Test accuracy= 0.9838799332962757\n"
     ]
    }
   ],
   "source": [
    "from xgboost import XGBClassifier\n",
    "\n",
    "xgb = XGBClassifier()\n",
    "xgb.fit(X_train, y_train)\n",
    "print(\"Train accuracy=\",xgb.score(X_train, y_train))\n",
    "xgb_pred = xgb.predict(X_test)\n",
    "print (\"Test accuracy=\",accuracy_score(y_test, xgb_pred))"
   ]
  },
  {
   "cell_type": "code",
   "execution_count": 31,
   "id": "4bb57880",
   "metadata": {},
   "outputs": [
    {
     "name": "stdout",
     "output_type": "stream",
     "text": [
      "[[2959   12]\n",
      " [  46  581]]\n"
     ]
    }
   ],
   "source": [
    "# Create the Confusion matrix\n",
    "print(confusion_matrix(y_test,xgb_pred))  "
   ]
  },
  {
   "cell_type": "code",
   "execution_count": null,
   "id": "f517f063",
   "metadata": {},
   "outputs": [],
   "source": []
  }
 ],
 "metadata": {
  "kernelspec": {
   "display_name": "Python 3",
   "language": "python",
   "name": "python3"
  },
  "language_info": {
   "codemirror_mode": {
    "name": "ipython",
    "version": 3
   },
   "file_extension": ".py",
   "mimetype": "text/x-python",
   "name": "python",
   "nbconvert_exporter": "python",
   "pygments_lexer": "ipython3",
   "version": "3.8.8"
  }
 },
 "nbformat": 4,
 "nbformat_minor": 5
}
